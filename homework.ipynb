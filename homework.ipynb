{
  "nbformat": 4,
  "nbformat_minor": 0,
  "metadata": {
    "colab": {
      "provenance": [],
      "authorship_tag": "ABX9TyMXltI30MnLksfaarY7Df3Y",
      "include_colab_link": true
    },
    "kernelspec": {
      "name": "python3",
      "display_name": "Python 3"
    },
    "language_info": {
      "name": "python"
    }
  },
  "cells": [
    {
      "cell_type": "markdown",
      "metadata": {
        "id": "view-in-github",
        "colab_type": "text"
      },
      "source": [
        "<a href=\"https://colab.research.google.com/github/dda82gb/Python_Analyst/blob/main/homework.ipynb\" target=\"_parent\"><img src=\"https://colab.research.google.com/assets/colab-badge.svg\" alt=\"Open In Colab\"/></a>"
      ]
    },
    {
      "cell_type": "markdown",
      "source": [
        "## Задача 1\n",
        "\n",
        "### Оформляйте ноутбук, используя эти советы:\n",
        "\n",
        "- Номер задачи - заголовок 2\n",
        "- Номер подзадачи - заголовок 3\n",
        "- Предоставленные наборы данных оформляйте, как код\n",
        "\n",
        "\n",
        "## Задача 2\n",
        "\n",
        "На складе лежат разные фрукты в разном количестве.\n",
        "Нужно написать функцию, которая на вход принимает любое количество названий фруктов и их количество, а возвращает общее количество фруктов на складе."
      ],
      "metadata": {
        "id": "hJPZA0nKLlqO"
      }
    },
    {
      "cell_type": "code",
      "source": [
        "def fruits(**kwargs):\n",
        "\n",
        "    total_fruits = sum(kwargs.values())\n",
        "\n",
        "    return f'Total fruits: {total_fruits}'"
      ],
      "metadata": {
        "id": "eAgCdQjWMwrv"
      },
      "execution_count": null,
      "outputs": []
    },
    {
      "cell_type": "code",
      "source": [
        "print(fruits(apples=10, pears=5, bananas=4,lemon = 5,orange = 15))"
      ],
      "metadata": {
        "colab": {
          "base_uri": "https://localhost:8080/"
        },
        "id": "awp8F31TNMJq",
        "outputId": "617bbe85-12fd-4879-f726-f1e616cc71d7"
      },
      "execution_count": 23,
      "outputs": [
        {
          "output_type": "stream",
          "name": "stdout",
          "text": [
            "Total fruits: 39\n"
          ]
        }
      ]
    },
    {
      "cell_type": "markdown",
      "source": [
        "## Задача 3\n",
        "\n",
        "Дан список с затратами на рекламу. Но в данных есть ошибки, некоторые затраты имеют отрицательную величину. Удалите такие значения из списка и посчитайте суммарные затраты\n",
        "\n",
        "[100, 125, -90, 345, 655, -1, 0, 200]\n",
        "\n",
        "Используйте list comprehensions"
      ],
      "metadata": {
        "id": "riO4TQUUN8y1"
      }
    },
    {
      "cell_type": "code",
      "source": [
        "def expenses(data: list):\n",
        "\n",
        "    new_data = []\n",
        "\n",
        "    for i in data:\n",
        "        if i > -1:\n",
        "            new_data.append(i)\n",
        "\n",
        "    print(new_data)\n",
        "    print(f'Total expenses: {sum(new_data)}')"
      ],
      "metadata": {
        "id": "6c_07dysXKRn"
      },
      "execution_count": 17,
      "outputs": []
    },
    {
      "cell_type": "code",
      "source": [
        "data = [100, 125, -90, 345, 655, -1, 0, 200]\n",
        "\n",
        "expenses(data)"
      ],
      "metadata": {
        "colab": {
          "base_uri": "https://localhost:8080/"
        },
        "id": "vNxptFIYOwgh",
        "outputId": "730ce9c4-a822-48b7-e0cb-6dd78d53beb5"
      },
      "execution_count": 18,
      "outputs": [
        {
          "output_type": "stream",
          "name": "stdout",
          "text": [
            "[100, 125, 345, 655, 0, 200]\n",
            "Total expenses: 1425\n"
          ]
        }
      ]
    },
    {
      "cell_type": "code",
      "source": [
        "print([i for i in data if i > -1 ])"
      ],
      "metadata": {
        "colab": {
          "base_uri": "https://localhost:8080/"
        },
        "id": "Vhvl2h3XPeNN",
        "outputId": "597867ae-e53c-489e-f71e-944d1c2c09ee"
      },
      "execution_count": 19,
      "outputs": [
        {
          "output_type": "stream",
          "name": "stdout",
          "text": [
            "[100, 125, 345, 655, 0, 200]\n"
          ]
        }
      ]
    },
    {
      "cell_type": "code",
      "source": [
        "print(f'Total expenses: {sum([i for i in data if i > -1 ])}')"
      ],
      "metadata": {
        "colab": {
          "base_uri": "https://localhost:8080/"
        },
        "id": "BAKyWVgvPlhB",
        "outputId": "1fb1872e-2a60-4151-9c89-b5428bd76e34"
      },
      "execution_count": 20,
      "outputs": [
        {
          "output_type": "stream",
          "name": "stdout",
          "text": [
            "Total expenses: 1425\n"
          ]
        }
      ]
    },
    {
      "cell_type": "markdown",
      "source": [
        "## Задача 4\n",
        "\n",
        "### Даны два списка.\n",
        "\n",
        "#### *Дата покупки*\n",
        "\n",
        "['2021-09-14', '2021-12-15', '2021-09-08', '2021-12-05', '2021-10-09', '2021-09-30', '2021-12-22', '2021-11-29', '2021-12-24', '2021-11-26', '2021-10-27', '2021-12-18', '2021-11-09', '2021-11-23', '2021-09-27', '2021-10-02', '2021-12-27', '2021-09-20', '2021-12-13', '2021-11-01', '2021-11-09', '2021-12-06', '2021-12-08', '2021-10-09', '2021-10-31', '2021-09-30', '2021-11-09', '2021-12-13', '2021-10-26', '2021-12-09']\n",
        "\n",
        "#### *Суммы покупок по датам*\n",
        "\n",
        "[1270, 8413, 9028, 3703, 5739, 4095, 295, 4944, 5723, 3701, 4471, 651, 7037, 4274, 6275, 4988, 6930, 2971, 6592, 2004, 2822, 519, 3406, 2732, 5015, 2008, 316, 6333, 5700, 2887]"
      ],
      "metadata": {
        "id": "YK1buGWsQCCK"
      }
    },
    {
      "cell_type": "markdown",
      "source": [
        "## Задача 4.1\n",
        "\n",
        "#### Найдите, какая выручка у компании в ноябре\n",
        "Используйте list comprehensions"
      ],
      "metadata": {
        "id": "lDZo4qWIQhLL"
      }
    },
    {
      "cell_type": "code",
      "source": [
        "date = ['2021-09-14', '2021-12-15', '2021-09-08', '2021-12-05', '2021-10-09',\n",
        "        '2021-09-30', '2021-12-22', '2021-11-29', '2021-12-24', '2021-11-26',\n",
        "        '2021-10-27', '2021-12-18', '2021-11-09', '2021-11-23', '2021-09-27',\n",
        "        '2021-10-02', '2021-12-27', '2021-09-20', '2021-12-13', '2021-11-01',\n",
        "        '2021-11-09', '2021-12-06', '2021-12-08', '2021-10-09', '2021-10-31',\n",
        "        '2021-09-30', '2021-11-09', '2021-12-13', '2021-10-26', '2021-12-09']\n",
        "cost = [1270, 8413, 9028, 3703, 5739, 4095, 295, 4944, 5723, 3701,\n",
        "        4471, 651, 7037, 4274, 6275, 4988, 6930, 2971, 6592, 2004,\n",
        "        2822, 519, 3406, 2732, 5015, 2008, 316, 6333, 5700, 2887]"
      ],
      "metadata": {
        "id": "Mv_T6usXQ54s"
      },
      "execution_count": 12,
      "outputs": []
    },
    {
      "cell_type": "code",
      "source": [
        "def november(data1: list, data2: list) -> list:\n",
        "\n",
        "    new_data = []\n",
        "\n",
        "    for i in range(len(data1)-1):\n",
        "        if '-11-' in data1[i]:\n",
        "            new_data.append(data2[i])\n",
        "\n",
        "    return new_data"
      ],
      "metadata": {
        "id": "pJi19VAqRARq"
      },
      "execution_count": 13,
      "outputs": []
    },
    {
      "cell_type": "code",
      "source": [
        "print(november(date, cost))\n",
        "print(f'Profit: {sum(november(date, cost))}')"
      ],
      "metadata": {
        "colab": {
          "base_uri": "https://localhost:8080/"
        },
        "id": "UIZbBNIZRR_p",
        "outputId": "aa2e1329-85fa-42ba-d052-00049a032bb1"
      },
      "execution_count": 14,
      "outputs": [
        {
          "output_type": "stream",
          "name": "stdout",
          "text": [
            "[4944, 3701, 7037, 4274, 2004, 2822, 316]\n",
            "Profit: 25098\n"
          ]
        }
      ]
    },
    {
      "cell_type": "code",
      "source": [
        "print([cost[i] for i in range(0, len(date)-1) if \"-11\" in date[i]])\n",
        "print(f'Profit: {sum([cost[i] for i in range(len(date)-1) if \"-11\" in date[i]])}')"
      ],
      "metadata": {
        "colab": {
          "base_uri": "https://localhost:8080/"
        },
        "id": "f4LiFqGgXsIi",
        "outputId": "c13648c7-d340-4875-9492-b66d30707f49"
      },
      "execution_count": 21,
      "outputs": [
        {
          "output_type": "stream",
          "name": "stdout",
          "text": [
            "[4944, 3701, 7037, 4274, 2004, 2822, 316]\n",
            "Profit: 25098\n"
          ]
        }
      ]
    },
    {
      "cell_type": "markdown",
      "source": [
        "## Задача 4.2\n",
        "\n",
        "Найдите выручку компании в зависимости от месяца\n",
        "Для этого напишите функцию, которая на вход принимает список с датами и список с выручкой, а на выходе словарь, где ключи - это месяцы, а значения - это выручка.\n",
        "\n",
        "Используйте аннотирование типов."
      ],
      "metadata": {
        "id": "dv3QZ4hQX9I3"
      }
    },
    {
      "cell_type": "code",
      "source": [
        "def profits(data1: list, data2: list) -> dict:\n",
        "\n",
        "    profits = {}\n",
        "\n",
        "    for i in range(len(data1)):\n",
        "\n",
        "        if date[i].split('-')[1] in profits.keys():\n",
        "            profits[date[i].split('-')[1]] += cost[i]\n",
        "        else:\n",
        "            profits[date[i].split('-')[1]] = cost[i]\n",
        "\n",
        "    return profits\n",
        "\n",
        "print(profits(date, cost))"
      ],
      "metadata": {
        "colab": {
          "base_uri": "https://localhost:8080/"
        },
        "id": "QRhJmGU7YDFI",
        "outputId": "c753bb47-94a3-4379-ad12-0cc287f7faf4"
      },
      "execution_count": 22,
      "outputs": [
        {
          "output_type": "stream",
          "name": "stdout",
          "text": [
            "{'09': 25647, '12': 45452, '10': 28645, '11': 25098}\n"
          ]
        }
      ]
    }
  ]
}